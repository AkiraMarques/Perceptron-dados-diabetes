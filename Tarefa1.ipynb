{
  "nbformat": 4,
  "nbformat_minor": 0,
  "metadata": {
    "colab": {
      "provenance": [],
      "authorship_tag": "ABX9TyMnohbKZc3agjhJuIG9pfNj",
      "include_colab_link": true
    },
    "kernelspec": {
      "name": "python3",
      "display_name": "Python 3"
    },
    "language_info": {
      "name": "python"
    }
  },
  "cells": [
    {
      "cell_type": "markdown",
      "metadata": {
        "id": "view-in-github",
        "colab_type": "text"
      },
      "source": [
        "<a href=\"https://colab.research.google.com/github/AkiraMarques/Perceptron-dados-diabetes/blob/main/Tarefa1.ipynb\" target=\"_parent\"><img src=\"https://colab.research.google.com/assets/colab-badge.svg\" alt=\"Open In Colab\"/></a>"
      ]
    },
    {
      "cell_type": "code",
      "source": [
        "# importando biblioteca numpy e matplotlib\n",
        "import numpy as np\n",
        "import matplotlib.pyplot as plt"
      ],
      "metadata": {
        "id": "wZfRyiaSiBha"
      },
      "execution_count": 1,
      "outputs": []
    },
    {
      "cell_type": "code",
      "execution_count": 7,
      "metadata": {
        "colab": {
          "base_uri": "https://localhost:8080/",
          "height": 447
        },
        "id": "rXVX_MIKNF_M",
        "outputId": "e51b7cda-7da2-41d5-cc48-ec2b6baeafdc"
      },
      "outputs": [
        {
          "output_type": "execute_result",
          "data": {
            "text/plain": [
              "<matplotlib.collections.PathCollection at 0x79ff7178d300>"
            ]
          },
          "metadata": {},
          "execution_count": 7
        },
        {
          "output_type": "display_data",
          "data": {
            "text/plain": [
              "<Figure size 640x480 with 1 Axes>"
            ],
            "image/png": "[encoded data removed]"
          },
          "metadata": {}
        }
      ],
      "source": [
        "# Dados Diabetes simplificada\n",
        "\n",
        "# importando dados da tabela em formato csv\n",
        "arquivo = 'simple_diabetes.csv'\n",
        "dados_s = np.loadtxt(arquivo, delimiter=',', skiprows=1)\n",
        "\n",
        "# embaralhando os dados\n",
        "np.random.seed(90)\n",
        "np.random.shuffle(dados_s)\n",
        "\n",
        "# Separando dados\n",
        "X_s = dados_s[:, :-1]\n",
        "y_s = dados_s[:, -1]\n",
        "\n",
        "# Separando dados de treino (80%) e dados de teste (20%)\n",
        "tam_treino_s = int(0.8 * len(dados_s))\n",
        "X_treino_s, y_treino_s = X_s[:tam_treino_s], y_s[:tam_treino_s]\n",
        "X_teste_s, y_teste_s = X_s[tam_treino_s:], y_s[tam_treino_s:]\n",
        "\n",
        "plt.scatter(X_s[:,0],X_s[:,1])"
      ]
    },
    {
      "cell_type": "code",
      "source": [
        "# Dados diabetes completa, com 8 entradas e 700+ exemplos\n",
        "\n",
        "# importando dados da tabela em formato url\n",
        "url = 'https://raw.githubusercontent.com/jbrownlee/Datasets/master/pima-indians-diabetes.data.csv'\n",
        "dados_c = np.loadtxt(url, delimiter=',', skiprows=1)\n",
        "\n",
        "# embaralhando os dados\n",
        "np.random.seed(56)\n",
        "np.random.shuffle(dados_c)\n",
        "\n",
        "# Separando dados\n",
        "X_c = dados_c[:, :-1]\n",
        "y_c = dados_c[:, -1]\n",
        "\n",
        "# Separando dados de treino (80%) e dados de teste (20%)\n",
        "tam_treino_c = int(0.8 * len(dados_c))\n",
        "X_treino_c, y_treino_c = X_c[:tam_treino_c], y_c[:tam_treino_c]\n",
        "X_teste_c, y_teste_c = X_c[tam_treino_c:], y_c[tam_treino_c:]"
      ],
      "metadata": {
        "id": "DZD4RKmqgy2E"
      },
      "execution_count": 9,
      "outputs": []
    },
    {
      "cell_type": "code",
      "source": [
        "# criando objeto perceptron e suas funções\n",
        "class Perceptron:\n",
        "  def __init__(self, taxa_aprendizado=0.1, epochs=10):\n",
        "    self.taxa_aprendizado = taxa_aprendizado\n",
        "    self.epochs = epochs\n",
        "    self.w = None\n",
        "\n",
        "  # função de fit (treino)\n",
        "  def fit(self, X, y):\n",
        "    n_samples, n_features = X.shape\n",
        "    self.w = np.zeros(1 + n_features) # +1 para o bias\n",
        "\n",
        "    for epoch in range(self.epochs):\n",
        "      for i in range(len(X)):\n",
        "        y_previsto = self.predict(X[i])\n",
        "\n",
        "        ajuste = self.taxa_aprendizado * (y[i] - y_previsto)\n",
        "        self.w[1:] += ajuste * X[i]\n",
        "        self.w[0] += ajuste\n",
        "      if epoch % 100 == 0:\n",
        "        print(f'Epoch {epoch}, pesos: {self.w}')\n",
        "\n",
        "  # função predict\n",
        "  def predict(self, X):\n",
        "    out_lin = np.dot(X, self.w[1:]) + self.w[0]\n",
        "    y_previsto = self.funcao_ativacao(out_lin)\n",
        "    return y_previsto\n",
        "\n",
        "  # função de ativação\n",
        "  def funcao_ativacao(self, x):\n",
        "    return np.where(x >= 0, 1, 0)"
      ],
      "metadata": {
        "id": "3B0jJ15XOdOC"
      },
      "execution_count": 6,
      "outputs": []
    },
    {
      "cell_type": "code",
      "source": [
        "# criando o perceptron\n",
        "perceptron = Perceptron(taxa_aprendizado=0.1, epochs=2000)"
      ],
      "metadata": {
        "id": "llxDtsy0qz8w"
      },
      "execution_count": 11,
      "outputs": []
    },
    {
      "cell_type": "code",
      "source": [
        "# Perceptron com dados Diabetes simplificada\n",
        "\n",
        "# treinando o perceptron com os dados de entrada e saídas desejadas\n",
        "perceptron.fit(X_treino_s, y_treino_s)\n",
        "\n",
        "# testando o perceptron com os dados de teste e calculando a precisão\n",
        "predicoes_s = 0\n",
        "for i in range(len(X_teste_s)):\n",
        "  predicao_s = perceptron.predict(X_teste_s[i])\n",
        "  if predicao_s == y_teste_s[i]:\n",
        "    predicoes_s += 1\n",
        "\n",
        "acuracia_s = predicoes_s / len(X_teste_s)\n",
        "\n",
        "print(f'Acurácia: {acuracia_s * 100:.2f}%')\n",
        "\n",
        "# imprindo as predições\n",
        "pred = 17\n",
        "print(f'Dados de teste: {X_teste_s[pred], y_teste_s[pred]}')\n",
        "print(f'Predições: {perceptron.predict(X_teste_s[pred])}')"
      ],
      "metadata": {
        "colab": {
          "base_uri": "https://localhost:8080/"
        },
        "id": "_mlixelNTkI8",
        "outputId": "267fc2fc-ddf4-43ff-a53d-2da6dc8e689c"
      },
      "execution_count": 12,
      "outputs": [
        {
          "output_type": "stream",
          "name": "stdout",
          "text": [
            "Epoch 0, pesos: [-0.8  -4.5  -0.79]\n",
            "Epoch 100, pesos: [-84.6    3.3  -11.83]\n",
            "Epoch 200, pesos: [-165.7    -4.9    -6.47]\n",
            "Epoch 300, pesos: [-245.3    -5.6    -1.21]\n",
            "Epoch 400, pesos: [-295.7    2.1    1. ]\n",
            "Epoch 500, pesos: [-295.7    2.1    1. ]\n",
            "Epoch 600, pesos: [-295.7    2.1    1. ]\n",
            "Epoch 700, pesos: [-295.7    2.1    1. ]\n",
            "Epoch 800, pesos: [-295.7    2.1    1. ]\n",
            "Epoch 900, pesos: [-295.7    2.1    1. ]\n",
            "Epoch 1000, pesos: [-295.7    2.1    1. ]\n",
            "Epoch 1100, pesos: [-295.7    2.1    1. ]\n",
            "Epoch 1200, pesos: [-295.7    2.1    1. ]\n",
            "Epoch 1300, pesos: [-295.7    2.1    1. ]\n",
            "Epoch 1400, pesos: [-295.7    2.1    1. ]\n",
            "Epoch 1500, pesos: [-295.7    2.1    1. ]\n",
            "Epoch 1600, pesos: [-295.7    2.1    1. ]\n",
            "Epoch 1700, pesos: [-295.7    2.1    1. ]\n",
            "Epoch 1800, pesos: [-295.7    2.1    1. ]\n",
            "Epoch 1900, pesos: [-295.7    2.1    1. ]\n",
            "Acurácia: 100.00%\n",
            "Dados de teste: (array([96. , 21.1]), 0.0)\n",
            "Predições: 0\n"
          ]
        }
      ]
    },
    {
      "cell_type": "code",
      "source": [
        "# Perceptron com dados Diabetes completa\n",
        "\n",
        "# treinando o perceptron com os dados de entrada e saídas desejadas\n",
        "perceptron.fit(X_treino_c, y_treino_c)\n",
        "\n",
        "# testando o perceptron com os dados de teste e calculando a precisão\n",
        "predicoes_c = 0\n",
        "for i in range(len(X_teste_c)):\n",
        "  predicao_c = perceptron.predict(X_teste_c[i])\n",
        "  if predicao_c == y_teste_c[i]:\n",
        "    predicoes_c += 1\n",
        "\n",
        "acuracia_c = predicoes_c / len(X_teste_c)\n",
        "\n",
        "print(f'Acurácia: {acuracia_c * 100:.2f}%')\n",
        "\n",
        "# imprindo as predições\n",
        "pred = 17\n",
        "print(f'Dados de teste: {X_teste_c[pred], y_teste_c[pred]}')\n",
        "print(f'Predições: {perceptron.predict(X_teste_c[pred])}')"
      ],
      "metadata": {
        "colab": {
          "base_uri": "https://localhost:8080/"
        },
        "id": "Usg2drG1qZ4g",
        "outputId": "5aaa7d4e-7646-4230-fa27-f83096536dbe"
      },
      "execution_count": 14,
      "outputs": [
        {
          "output_type": "stream",
          "name": "stdout",
          "text": [
            "Epoch 0, pesos: [ -2.2      8.1      6.5    -48.4     -1.1     28.1    -12.78     0.4855\n",
            "   2.2   ]\n",
            "Epoch 100, pesos: [-207.1     104.6       4.2     -39.9       8.2      27.      -32.01\n",
            "   54.7005   -4.1   ]\n",
            "Epoch 200, pesos: [-406.9      98.5       2.2     -54.1       5.5      20.8     -26.86\n",
            "  106.7365    0.9   ]\n",
            "Epoch 300, pesos: [-604.7      93.8      13.9     -52.3      21.1      18.8     -31.71\n",
            "  155.5623   -1.1   ]\n",
            "Epoch 400, pesos: [-798.9      99.        4.1     -41.5      13.7      20.2     -17.77\n",
            "  201.9778   -6.3   ]\n",
            "Epoch 500, pesos: [-987.5      98.       17.1     -52.7      13.5      16.1     -22.1\n",
            "  249.4822    5.2   ]\n",
            "Epoch 600, pesos: [-1173.        78.        10.3      -43.7       15.5       13.8\n",
            "   -31.74     294.4414     8.7   ]\n",
            "Epoch 700, pesos: [-1.351800e+03  8.320000e+01  1.580000e+01 -4.330000e+01  2.050000e+01\n",
            "  1.920000e+01 -1.988000e+01  3.391425e+02 -8.000000e-01]\n",
            "Epoch 800, pesos: [-1.527100e+03  7.890000e+01  1.190000e+01 -4.760000e+01  1.690000e+01\n",
            "  2.120000e+01 -2.085000e+01  3.818092e+02 -1.500000e+00]\n",
            "Epoch 900, pesos: [-1697.9       77.3       13.2      -52.         2.6       28.8\n",
            "   -18.       423.4203     8.4   ]\n",
            "Epoch 1000, pesos: [-1.86450e+03  7.92000e+01  2.01000e+01 -4.64000e+01  1.28000e+01\n",
            "  1.90000e+01 -1.38700e+01  4.60544e+02  1.60000e+00]\n",
            "Epoch 1100, pesos: [-2026.7       85.4        3.3      -37.6       27.6       11.7\n",
            "   -14.78     495.5365     9.7   ]\n",
            "Epoch 1200, pesos: [-2185.6       91.3       16.4      -39.6       12.3       20.6\n",
            "   -10.53     530.9665     2.9   ]\n",
            "Epoch 1300, pesos: [-2.34100e+03  8.49000e+01  2.69000e+01 -5.01000e+01  1.24000e+01\n",
            "  2.03000e+01 -1.54400e+01  5.62901e+02 -2.20000e+00]\n",
            "Epoch 1400, pesos: [-2.491000e+03  7.690000e+01  1.650000e+01 -4.650000e+01  2.090000e+01\n",
            "  1.270000e+01 -3.930000e+00  5.927032e+02 -2.100000e+00]\n",
            "Epoch 1500, pesos: [-2640.9       79.5       12.5      -40.8        7.1       18.\n",
            "    -3.08     624.6648    -6.2   ]\n",
            "Epoch 1600, pesos: [-2785.3     79.4     10.3    -43.7     11.      26.2     -5.73   651.82\n",
            "     7.  ]\n",
            "Epoch 1700, pesos: [-2.926600e+03  8.020000e+01  1.340000e+01 -3.800000e+01  1.250000e+01\n",
            "  2.310000e+01 -1.940000e+00  6.837898e+02 -3.200000e+00]\n",
            "Epoch 1800, pesos: [-3065.2       84.9       12.7      -32.9       11.3       23.7\n",
            "    -7.45     714.1775    -4.2   ]\n",
            "Epoch 1900, pesos: [-3.200800e+03  8.740000e+01  1.830000e+01 -3.490000e+01  1.290000e+01\n",
            "  1.660000e+01 -7.750000e+00  7.410682e+02 -3.100000e+00]\n",
            "Acurácia: 74.03%\n",
            "Dados de teste: (array([  0.   , 179.   ,  50.   ,  36.   , 159.   ,  37.8  ,   0.455,\n",
            "        22.   ]), 1.0)\n",
            "Predições: 1\n"
          ]
        }
      ]
    }
  ]
}